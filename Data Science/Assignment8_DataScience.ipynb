{
 "cells": [
  {
   "cell_type": "markdown",
   "metadata": {
    "id": "W29LX31zuIV0"
   },
   "source": [
    "Choose a project from an internship portal and try to write a HLD and LLD based on the sample given in your portal for a respective project  ."
   ]
  },
  {
   "cell_type": "code",
   "execution_count": null,
   "metadata": {
    "id": "Z6fZyOdit7go"
   },
   "outputs": [],
   "source": [
    "## HLD\n",
    "\n",
    "https://drive.google.com/file/d/1orDqgXQWhve7WrxedtcOCJZffYveSzHe/view"
   ]
  },
  {
   "cell_type": "code",
   "execution_count": null,
   "metadata": {
    "id": "Xohs2nyFwZmk"
   },
   "outputs": [],
   "source": [
    "## LLD\n",
    "\n",
    "https://drive.google.com/file/d/1SSx30MvTk1KpUAPQ_KJKSjlJTCqLCSjc/view"
   ]
  }
 ],
 "metadata": {
  "colab": {
   "provenance": []
  },
  "kernelspec": {
   "display_name": "Python 3 (ipykernel)",
   "language": "python",
   "name": "python3"
  },
  "language_info": {
   "codemirror_mode": {
    "name": "ipython",
    "version": 3
   },
   "file_extension": ".py",
   "mimetype": "text/x-python",
   "name": "python",
   "nbconvert_exporter": "python",
   "pygments_lexer": "ipython3",
   "version": "3.10.6"
  }
 },
 "nbformat": 4,
 "nbformat_minor": 1
}
