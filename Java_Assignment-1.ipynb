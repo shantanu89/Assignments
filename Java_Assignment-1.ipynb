{
 "cells": [
  {
   "cell_type": "markdown",
   "id": "7cb6942b-ef07-42e1-b5b2-c80d200e5c05",
   "metadata": {},
   "source": [
    "Q1.What is the difference between Compiler and Interpreter"
   ]
  },
  {
   "cell_type": "raw",
   "id": "fc7f692f-0603-4a90-85ff-eeca5af28668",
   "metadata": {},
   "source": [
    "Compiler :\n",
    "The Compiler and Interpreter, both have similar works to perform.\n",
    "Interpreters and Compilers convert the Source Code (HLL) to Machine Code (understandable by Computer).\n",
    "\n",
    "Interpreter:\n",
    "    An Interpreter is a program that translates a programming language into a comprehensible language. The interpreter converts high-level language to an intermediate language.\n",
    "    It contains pre-compiled code, source code, etc."
   ]
  },
  {
   "cell_type": "markdown",
   "id": "6a376733-3965-4b27-b1d2-bf49dc49e233",
   "metadata": {},
   "source": [
    "Q2.What is the difference between JDK, JRE, and JVM?"
   ]
  },
  {
   "cell_type": "raw",
   "id": "79e6fd70-789c-4d32-a996-65a38b14fedb",
   "metadata": {},
   "source": [
    "Java Development Kit (JDK) is a software development environment used for developing Java applications and applets. \n",
    "It includes the Java Runtime Environment (JRE), an interpreter/loader (Java), a compiler (javac), an archiver (jar), a documentation generator (Javadoc),\n",
    "and other tools needed in Java development."
   ]
  },
  {
   "cell_type": "markdown",
   "id": "720a66da-5f48-4e7c-89c8-363b967374b1",
   "metadata": {},
   "source": [
    "Q3.How many types of memory areas are allocated by JVM?"
   ]
  },
  {
   "cell_type": "raw",
   "id": "f8a2bc44-0172-45d3-909b-799d03d69542",
   "metadata": {},
   "source": [
    "Class(Method) Area\n",
    "Heap\n",
    "Stack\n",
    "Program Counter Register\n",
    "Native Method Stack"
   ]
  },
  {
   "cell_type": "markdown",
   "id": "df48e7d6-833d-401d-b8a6-de4ced7edbcc",
   "metadata": {},
   "source": [
    "Q4.What is JIT compiler?"
   ]
  },
  {
   "cell_type": "raw",
   "id": "0de6e82e-8c85-4bd0-a5e4-901d2ef13611",
   "metadata": {},
   "source": [
    "A just-in-time (JIT) compiler is a compiler that compiles code during program execution, rather than ahead of time. Many traditional compilers compiled code, transitioning between code input and machine language, well before runtime. \n",
    "A JIT compiler is a way to compile in real time or on the fly as the program executes"
   ]
  },
  {
   "cell_type": "markdown",
   "id": "5d163ad7-de2e-499f-9dd3-2a63ee591e43",
   "metadata": {},
   "source": [
    "Q5.What are the various access specifiers in Java?"
   ]
  },
  {
   "cell_type": "raw",
   "id": "fd7a9b54-8791-4bd2-b6b1-228c00e12da8",
   "metadata": {},
   "source": [
    "In Java, there are three access specifiers: public, private, and protected123.There are also sources that mention four access specifiers45:\n",
    "Public: The classes, methods, or variables which are defined as public, can be accessed by any class or method.\n",
    "Protected: Protected can be accessed by the class of the same package, or by the sub-class of this class, or within the same class.\n",
    "Default: Default are accessible within the package only. By default, all the classes, methods, and variables are of default scope.\n",
    "Private: This access specifier denotes a variable or a method as being private to the class and may not be accessed outside the class. Accessing will be done through calling one of the public class methods."
   ]
  },
  {
   "cell_type": "markdown",
   "id": "39013df1-1ad0-40f3-89a6-253400cb5533",
   "metadata": {},
   "source": [
    "Q6.What is a compiler in Java?"
   ]
  },
  {
   "cell_type": "raw",
   "id": "b4d297f3-81ce-45f3-a53d-ee319a189473",
   "metadata": {},
   "source": [
    "A compiler in Java is a computer program that is used for compiling Java programs. It is platform-independent. It converts (translates) source code (.java file) into bytecode (.class file). In other words, the compiler (javac.exe) generates bytecode during the compilation process."
   ]
  },
  {
   "cell_type": "markdown",
   "id": "8e070a4e-af60-49ac-b41c-f385580436b9",
   "metadata": {},
   "source": [
    "Q7.Explain the types of variables in Java?"
   ]
  },
  {
   "cell_type": "raw",
   "id": "b2feb876-9396-49b0-850d-fe47a41aa004",
   "metadata": {},
   "source": [
    "Variable in Java is a data container that saves the data values during Java program execution. Every variable is assigned a data type that designates the type and quantity of value it can hold. A variable is a memory location name for the data.Integer,float,character,boolean,string,long,short,long int"
   ]
  },
  {
   "cell_type": "markdown",
   "id": "75296c38-6ceb-4eef-ab26-216e96e2b92d",
   "metadata": {},
   "source": [
    "Q8.What are the Datatypes in Java?"
   ]
  },
  {
   "cell_type": "raw",
   "id": "649ac76b-d65a-4f96-96ed-870bb9fa204e",
   "metadata": {},
   "source": [
    "There are two types of data types in Java:\n",
    "\n",
    "Primitive data types: The primitive data types include boolean, char, byte, short, int, long, float and double.\n",
    "Non-primitive data types: The non-primitive data types include Classes, Interfaces, and Arrays."
   ]
  },
  {
   "cell_type": "markdown",
   "id": "df7462ef-3121-4ebb-93f6-ac914ab4baf9",
   "metadata": {},
   "source": [
    "Q9.What are the identifiers in java?"
   ]
  },
  {
   "cell_type": "raw",
   "id": "1902913c-95d9-45a7-97b2-c0200bffb612",
   "metadata": {},
   "source": [
    "Identifiers in Java are names that distinguish between different Java entities, such as classes, methods, variables, and packages12"
   ]
  },
  {
   "cell_type": "code",
   "execution_count": null,
   "id": "c7a7284a-05cb-44dd-93a5-428c986c408b",
   "metadata": {},
   "outputs": [],
   "source": []
  }
 ],
 "metadata": {
  "kernelspec": {
   "display_name": "Python 3 (ipykernel)",
   "language": "python",
   "name": "python3"
  },
  "language_info": {
   "codemirror_mode": {
    "name": "ipython",
    "version": 3
   },
   "file_extension": ".py",
   "mimetype": "text/x-python",
   "name": "python",
   "nbconvert_exporter": "python",
   "pygments_lexer": "ipython3",
   "version": "3.10.6"
  }
 },
 "nbformat": 4,
 "nbformat_minor": 5
}
