{
 "cells": [
  {
   "cell_type": "markdown",
   "id": "10a52dd9",
   "metadata": {},
   "source": [
    "### Question  1 Given an integer `n`, return *`true` if it is a power of two. Otherwise, return `false`*. An integer `n` is a power of two, if there exists an integer `x` such that `n == 2x`.\n",
    "\n",
    "**Example 1:**\n",
    "Input: n = 1 \n",
    "\n",
    "Output: true\n",
    "\n",
    "**Example 2:**\n",
    "Input: n = 16 \n",
    "\n",
    "Output: true\n",
    "\n",
    "**Example 3:**\n",
    "Input: n = 3 \n",
    "\n",
    "Output: false\n",
    "\n",
    "</aside>"
   ]
  },
  {
   "cell_type": "code",
   "execution_count": 1,
   "id": "698346ee",
   "metadata": {},
   "outputs": [],
   "source": [
    "def power_of_two(n):\n",
    "    if n <= 0:\n",
    "        return False\n",
    "    return (n & (n - 1)) == 0"
   ]
  },
  {
   "cell_type": "code",
   "execution_count": 2,
   "id": "94fba7b5",
   "metadata": {},
   "outputs": [
    {
     "name": "stdout",
     "output_type": "stream",
     "text": [
      "True\n",
      "True\n",
      "False\n"
     ]
    }
   ],
   "source": [
    "print(power_of_two(1))  # Output: True\n",
    "print(power_of_two(16))  # Output: True\n",
    "print(power_of_two(3))  # Output: False"
   ]
  },
  {
   "cell_type": "markdown",
   "id": "c641ed5a",
   "metadata": {},
   "source": [
    "### Question 2 Given a number n, find the sum of the first natural numbers.\n",
    "\n",
    "**Example 1:**\n",
    "\n",
    "Input: n = 3 \n",
    "\n",
    "Output: 6\n",
    "\n",
    "**Example 2:**\n",
    "\n",
    "Input  : 5 \n",
    "\n",
    "Output : 15\n",
    "\n",
    "</aside> "
   ]
  },
  {
   "cell_type": "code",
   "execution_count": 3,
   "id": "122268d1",
   "metadata": {},
   "outputs": [],
   "source": [
    "def sum_of_natural_numbers(n):\n",
    "    return (n * (n + 1)) // 2"
   ]
  },
  {
   "cell_type": "code",
   "execution_count": 4,
   "id": "b0ad59de",
   "metadata": {},
   "outputs": [
    {
     "name": "stdout",
     "output_type": "stream",
     "text": [
      "6\n",
      "15\n"
     ]
    }
   ],
   "source": [
    "print(sum_of_natural_numbers(3))  # Output: 6\n",
    "print(sum_of_natural_numbers(5))  # Output: 15"
   ]
  },
  {
   "cell_type": "markdown",
   "id": "e7e2b814",
   "metadata": {},
   "source": [
    "### Question 3 Given a positive integer, N. Find the factorial of N. \n",
    "\n",
    "**Example 1:**\n",
    "\n",
    "Input: N = 5 \n",
    "\n",
    "Output: 120\n",
    "\n",
    "**Example 2:**\n",
    "\n",
    "Input: N = 4\n",
    "\n",
    "Output: 24\n",
    "\n",
    "</aside>"
   ]
  },
  {
   "cell_type": "code",
   "execution_count": 5,
   "id": "2d83e10b",
   "metadata": {},
   "outputs": [],
   "source": [
    "def factorial(N):\n",
    "    factorial = 1\n",
    "    for i in range(1, N + 1):\n",
    "        factorial *= i\n",
    "    return factorial"
   ]
  },
  {
   "cell_type": "code",
   "execution_count": 6,
   "id": "ad7ac25a",
   "metadata": {},
   "outputs": [
    {
     "name": "stdout",
     "output_type": "stream",
     "text": [
      "5040\n",
      "40320\n"
     ]
    }
   ],
   "source": [
    "print(factorial(7)) \n",
    "print(factorial(8))"
   ]
  },
  {
   "cell_type": "markdown",
   "id": "ec767c7d",
   "metadata": {},
   "source": [
    "### Question 4 Given a number N and a power P, the task is to find the exponent of this number raised to the given power, i.e. N^P.\n",
    "\n",
    "**Example 1 :** \n",
    "\n",
    "Input: N = 5, P = 2\n",
    "\n",
    "Output: 25\n",
    "\n",
    "**Example 2 :**\n",
    "Input: N = 2, P = 5\n",
    "\n",
    "Output: 32\n",
    "\n",
    "</aside>"
   ]
  },
  {
   "cell_type": "code",
   "execution_count": 7,
   "id": "1d1b4b56",
   "metadata": {},
   "outputs": [],
   "source": [
    "def calculate_exponent(N, P):\n",
    "    return N ** P"
   ]
  },
  {
   "cell_type": "code",
   "execution_count": 8,
   "id": "1f6a27fa",
   "metadata": {},
   "outputs": [
    {
     "name": "stdout",
     "output_type": "stream",
     "text": [
      "36\n",
      "343\n"
     ]
    }
   ],
   "source": [
    "print(calculate_exponent(6, 2))\n",
    "print(calculate_exponent(7, 3))"
   ]
  },
  {
   "cell_type": "markdown",
   "id": "8e81f3e4",
   "metadata": {},
   "source": [
    "### Question 5** Given an array of integers **arr**, the task is to find maximum element of that array using recursion.\n",
    "\n",
    "**Example 1:**\n",
    "\n",
    "Input: arr = {1, 4, 3, -5, -4, 8, 6};\n",
    "Output: 8\n",
    "\n",
    "**Example 2:**\n",
    "\n",
    "Input: arr = {1, 4, 45, 6, 10, -8};\n",
    "Output: 45\n",
    "\n",
    "</aside> "
   ]
  },
  {
   "cell_type": "code",
   "execution_count": 9,
   "id": "1f2aa9d6",
   "metadata": {},
   "outputs": [],
   "source": [
    "def findMax(arr):\n",
    "    # Base case: If array contains only one element, return that element\n",
    "    if len(arr) == 1:\n",
    "        return arr[0]\n",
    "\n",
    "    # Split the array into two halves\n",
    "    mid = len(arr) // 2\n",
    "    left = arr[:mid]\n",
    "    right = arr[mid:]\n",
    "\n",
    "    # Recursively find the maximum elements of the left and right halves\n",
    "    max_left = findMax(left)\n",
    "    max_right = findMax(right)\n",
    "\n",
    "    # Compare the maximum elements of the left and right halves and return the larger one\n",
    "    return max(max_left, max_right)"
   ]
  },
  {
   "cell_type": "code",
   "execution_count": 10,
   "id": "15d55d71",
   "metadata": {},
   "outputs": [
    {
     "name": "stdout",
     "output_type": "stream",
     "text": [
      "8\n",
      "45\n"
     ]
    }
   ],
   "source": [
    "arr1 = [1, 4, 3, -5, -4, 8, 6]\n",
    "print(findMax(arr1))  # Output: 8\n",
    "\n",
    "arr2 = [1, 4, 45, 6, 10, -8]\n",
    "print(findMax(arr2))  # Output: 45\n"
   ]
  },
  {
   "cell_type": "markdown",
   "id": "2026c838",
   "metadata": {},
   "source": [
    "### Question 6 Given first term (a), common difference (d) and a integer N of the Arithmetic Progression series, the task is to find Nth term of the series.\n",
    "\n",
    "**Example 1:**\n",
    "\n",
    "Input : a = 2 d = 1 N = 5\n",
    "Output : 6\n",
    "The 5th term of the series is : 6\n",
    "\n",
    "**Example 2:**\n",
    "\n",
    "Input : a = 5 d = 2 N = 10\n",
    "Output : 23\n",
    "The 10th term of the series is : 23\n",
    "\n",
    "</aside> "
   ]
  },
  {
   "cell_type": "code",
   "execution_count": 11,
   "id": "e7892781",
   "metadata": {},
   "outputs": [],
   "source": [
    "def find_nth_term(a, d, N):\n",
    "    return a + (N - 1) * d"
   ]
  },
  {
   "cell_type": "code",
   "execution_count": 12,
   "id": "d8320ee9",
   "metadata": {},
   "outputs": [
    {
     "name": "stdout",
     "output_type": "stream",
     "text": [
      "13\n",
      "47\n"
     ]
    }
   ],
   "source": [
    "print(find_nth_term(3, 2, 6))  # Output: 6\n",
    "print(find_nth_term(2, 5, 10))  # Output: 23"
   ]
  },
  {
   "cell_type": "markdown",
   "id": "82bcb5fa",
   "metadata": {},
   "source": [
    "### Question 7Given a string S, the task is to write a program to print all permutations of a given string.\n",
    "\n",
    "**Example 1:**\n",
    "\n",
    "***Input:***\n",
    "\n",
    "*S = “ABC”*\n",
    "\n",
    "***Output:***\n",
    "\n",
    "*“ABC”, “ACB”, “BAC”, “BCA”, “CBA”, “CAB”*\n",
    "\n",
    "**Example 2:**\n",
    "\n",
    "***Input:***\n",
    "\n",
    "*S = “XY”*\n",
    "\n",
    "***Output:***\n",
    "\n",
    "*“XY”, “YX”*\n",
    "\n",
    "</aside>"
   ]
  },
  {
   "cell_type": "code",
   "execution_count": 13,
   "id": "1047d4d0",
   "metadata": {},
   "outputs": [],
   "source": [
    "def permute(S):\n",
    "    # Base case: If the length of S is 1, return the string itself as the only permutation\n",
    "    if len(S) == 1:\n",
    "        return [S]\n",
    "\n",
    "    # Set to store all permutations\n",
    "    permutations = []\n",
    "\n",
    "    # Generate permutations for each character in S\n",
    "    for i in range(len(S)):\n",
    "        # Remove character at index i from S\n",
    "        c = S[i]\n",
    "        S_without_c = S[:i] + S[i+1:]\n",
    "\n",
    "        # Recursively generate all permutations of S_without_c\n",
    "        sub_permutations = permute(S_without_c)\n",
    "\n",
    "        # Append c to each permutation\n",
    "        for sub_permutation in sub_permutations:\n",
    "            permutations.append(c + sub_permutation)\n",
    "\n",
    "    return permutations"
   ]
  },
  {
   "cell_type": "code",
   "execution_count": 14,
   "id": "edd73ef2",
   "metadata": {},
   "outputs": [
    {
     "name": "stdout",
     "output_type": "stream",
     "text": [
      "['ABC', 'ACB', 'BAC', 'BCA', 'CAB', 'CBA']\n",
      "['XY', 'YX']\n"
     ]
    }
   ],
   "source": [
    "S1 = \"ABC\"\n",
    "print(permute(S1))  # Output: ['ABC', 'ACB', 'BAC', 'BCA', 'CAB', 'CBA']\n",
    "\n",
    "S2 = \"XY\"\n",
    "print(permute(S2))  # Output: ['XY', 'YX']"
   ]
  },
  {
   "cell_type": "markdown",
   "id": "d7e49b6a",
   "metadata": {},
   "source": [
    "### Question 8 Given an array, find a product of all array elements.\n",
    "\n",
    "**Example 1:**\n",
    "\n",
    "Input  : arr[] = {1, 2, 3, 4, 5}\n",
    "Output : 120\n",
    "**Example 2:**\n",
    "\n",
    "Input  : arr[] = {1, 6, 3}\n",
    "Output : 18\n",
    "\n",
    "</aside>"
   ]
  },
  {
   "cell_type": "code",
   "execution_count": 15,
   "id": "9db97611",
   "metadata": {},
   "outputs": [],
   "source": [
    "def product_of_array(arr):\n",
    "    product = 1\n",
    "    for num in arr:\n",
    "        product *= num\n",
    "    return product"
   ]
  },
  {
   "cell_type": "code",
   "execution_count": 16,
   "id": "c25f17f0",
   "metadata": {},
   "outputs": [
    {
     "name": "stdout",
     "output_type": "stream",
     "text": [
      "120\n",
      "18\n"
     ]
    }
   ],
   "source": [
    "arr1 = [1, 2, 3, 4, 5]\n",
    "print(product_of_array(arr1))  # Output: 120\n",
    "\n",
    "arr2 = [1, 6, 3]\n",
    "print(product_of_array(arr2))  # Output: 18"
   ]
  },
  {
   "cell_type": "code",
   "execution_count": null,
   "id": "35f3bb6a",
   "metadata": {},
   "outputs": [],
   "source": []
  }
 ],
 "metadata": {
  "kernelspec": {
   "display_name": "Python 3 (ipykernel)",
   "language": "python",
   "name": "python3"
  },
  "language_info": {
   "codemirror_mode": {
    "name": "ipython",
    "version": 3
   },
   "file_extension": ".py",
   "mimetype": "text/x-python",
   "name": "python",
   "nbconvert_exporter": "python",
   "pygments_lexer": "ipython3",
   "version": "3.10.6"
  }
 },
 "nbformat": 4,
 "nbformat_minor": 5
}
